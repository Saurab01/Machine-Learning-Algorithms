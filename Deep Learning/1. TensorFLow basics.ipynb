{
  "nbformat": 4,
  "nbformat_minor": 0,
  "metadata": {
    "colab": {
      "name": "1. TensorFLow basics.ipynb",
      "version": "0.3.2",
      "provenance": [],
      "include_colab_link": true
    },
    "kernelspec": {
      "display_name": "Python 3",
      "language": "python",
      "name": "python3"
    }
  },
  "cells": [
    {
      "cell_type": "markdown",
      "metadata": {
        "id": "view-in-github",
        "colab_type": "text"
      },
      "source": [
        "[View in Colaboratory](https://colab.research.google.com/github/Saurab01/Machine-Learning-Algorithms/blob/master/Deep%20Learning/1.%20TensorFLow%20basics.ipynb)"
      ]
    },
    {
      "metadata": {
        "id": "pZ5-z-qJs6qE",
        "colab_type": "text"
      },
      "cell_type": "markdown",
      "source": [
        "### Load tensorflow"
      ]
    },
    {
      "metadata": {
        "id": "_QwOCI2fs6qL",
        "colab_type": "code",
        "colab": {}
      },
      "cell_type": "code",
      "source": [
        "import tensorflow as tf"
      ],
      "execution_count": 0,
      "outputs": []
    },
    {
      "metadata": {
        "id": "Jho7Scyls6qV",
        "colab_type": "code",
        "colab": {
          "base_uri": "https://localhost:8080/",
          "height": 39
        },
        "outputId": "818639eb-e0c5-4d1d-dcb0-0ef323c091cd"
      },
      "cell_type": "code",
      "source": [
        "tf.__version__"
      ],
      "execution_count": 3,
      "outputs": [
        {
          "output_type": "execute_result",
          "data": {
            "text/plain": [
              "'1.12.0-rc1'"
            ]
          },
          "metadata": {
            "tags": []
          },
          "execution_count": 3
        }
      ]
    },
    {
      "metadata": {
        "id": "RySQPF7ps6qe",
        "colab_type": "text"
      },
      "cell_type": "markdown",
      "source": [
        "### Create a constant tensor"
      ]
    },
    {
      "metadata": {
        "id": "xb0NKg-Es6qi",
        "colab_type": "code",
        "colab": {}
      },
      "cell_type": "code",
      "source": [
        "hello = tf.constant('Hello World')"
      ],
      "execution_count": 0,
      "outputs": []
    },
    {
      "metadata": {
        "scrolled": true,
        "id": "fASSkJjss6qn",
        "colab_type": "code",
        "colab": {}
      },
      "cell_type": "code",
      "source": [
        "print(hello)"
      ],
      "execution_count": 0,
      "outputs": []
    },
    {
      "metadata": {
        "id": "7slw4IohtWjT",
        "colab_type": "code",
        "colab": {
          "base_uri": "https://localhost:8080/",
          "height": 39
        },
        "outputId": "6fb763a0-fc97-4337-fcf2-1850758fecc2"
      },
      "cell_type": "code",
      "source": [
        "type(hello)"
      ],
      "execution_count": 6,
      "outputs": [
        {
          "output_type": "execute_result",
          "data": {
            "text/plain": [
              "tensorflow.python.framework.ops.Tensor"
            ]
          },
          "metadata": {
            "tags": []
          },
          "execution_count": 6
        }
      ]
    },
    {
      "metadata": {
        "id": "B8iWXfBbs6qu",
        "colab_type": "text"
      },
      "cell_type": "markdown",
      "source": [
        "### Defining shape"
      ]
    },
    {
      "metadata": {
        "id": "9O04VrTUs6qv",
        "colab_type": "code",
        "colab": {}
      },
      "cell_type": "code",
      "source": [
        "hello_2 =  tf.constant('Hello World', shape=[6,2], name='hello')\n",
        "print(hello_2)"
      ],
      "execution_count": 0,
      "outputs": []
    },
    {
      "metadata": {
        "id": "k3ra2xyjs6q3",
        "colab_type": "code",
        "colab": {}
      },
      "cell_type": "code",
      "source": [
        "hello_3 =  tf.constant('Hello World', shape=[6,2], name='hello')\n",
        "print(hello_3)"
      ],
      "execution_count": 0,
      "outputs": []
    },
    {
      "metadata": {
        "id": "PGLv1U--s6q9",
        "colab_type": "code",
        "colab": {}
      },
      "cell_type": "code",
      "source": [
        "a = tf.constant([1.2])\n",
        "b = tf.constant([3.4])\n",
        "c = tf.add(a,b)\n",
        "print(c)"
      ],
      "execution_count": 0,
      "outputs": []
    },
    {
      "metadata": {
        "id": "f8AN-9p4s6rB",
        "colab_type": "text"
      },
      "cell_type": "markdown",
      "source": [
        "<center><h2>How do I print Hello World</h2></center>"
      ]
    },
    {
      "metadata": {
        "id": "ZJ1Cr6Xvs6rE",
        "colab_type": "text"
      },
      "cell_type": "markdown",
      "source": [
        "Start a session"
      ]
    },
    {
      "metadata": {
        "id": "6PHCn4SAs6rG",
        "colab_type": "code",
        "colab": {}
      },
      "cell_type": "code",
      "source": [
        "sess = tf.Session()"
      ],
      "execution_count": 0,
      "outputs": []
    },
    {
      "metadata": {
        "id": "2vWckg0Xs6rL",
        "colab_type": "code",
        "colab": {}
      },
      "cell_type": "code",
      "source": [
        "print(sess.run(hello))"
      ],
      "execution_count": 0,
      "outputs": []
    },
    {
      "metadata": {
        "id": "f9sN7sAes6rO",
        "colab_type": "code",
        "colab": {}
      },
      "cell_type": "code",
      "source": [
        "print(sess.run(hello_2))"
      ],
      "execution_count": 0,
      "outputs": []
    },
    {
      "metadata": {
        "id": "07wcEy4ws6rR",
        "colab_type": "code",
        "colab": {}
      },
      "cell_type": "code",
      "source": [
        "print(sess.run(c))"
      ],
      "execution_count": 0,
      "outputs": []
    },
    {
      "metadata": {
        "id": "4JOOCL8Xs6rT",
        "colab_type": "text"
      },
      "cell_type": "markdown",
      "source": [
        "Close the session"
      ]
    },
    {
      "metadata": {
        "id": "FbbqFF0ds6rU",
        "colab_type": "code",
        "colab": {}
      },
      "cell_type": "code",
      "source": [
        "sess.close()"
      ],
      "execution_count": 0,
      "outputs": []
    },
    {
      "metadata": {
        "id": "IiDxYiAYs6rX",
        "colab_type": "code",
        "colab": {}
      },
      "cell_type": "code",
      "source": [
        "with tf.Session() as sess:\n",
        "    print(sess.run([hello, hello_2, c]))"
      ],
      "execution_count": 0,
      "outputs": []
    }
  ]
}